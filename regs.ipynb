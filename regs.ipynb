{
 "cells": [
  {
   "cell_type": "code",
   "execution_count": null,
   "metadata": {},
   "outputs": [],
   "source": []
  },
  {
   "cell_type": "markdown",
   "metadata": {},
   "source": [
    "## References\n",
    "[1] Met.ie dataset source: https://www.met.ie/climate/available-data/historical-data\n",
    "[2] Replacing blanks with nans: https://stackoverflow.com/questions/13445241/replacing-blank-values-white-space-with-nan-in-pandas\n",
    "[3] Setting/resetting indexhttps://sparkbyexamples.com/pandas/pandas-set-index-to-column-in-dataframe/\n",
    "[4] - Rainfall distribution: https://www.realclimate.org/index.php/archives/2017/11/a-brief-review-of-rainfall-statistics/] \n",
    "[5] fitting distributions/picking distribution: https://stackoverflow.com/questions/6620471/fitting-empirical-distribution-to-theoretical-ones-with-scipy-python/16651955#16651955\n",
    "[6] Exponential curve fitting:  https://www.geeksforgeeks.org/how-to-do-exponential-and-logarithmic-curve-fitting-in-python/\n",
    "[7] Curve fitting: https://stackoverflow.com/questions/50448199/lognormal-curve-fit\n",
    "[8] Curve fitting: https://www.geeksforgeeks.org/how-to-do-exponential-and-logarithmic-curve-fitting-in-python/\n",
    "[9] Scipy curve fitting: https://stackoverflow.com/questions/2896179/fitting-a-gamma-distribution-with-python-scipy \n",
    "[10] Scipy manual: https://docs.scipy.org/doc/scipy/reference/stats.html\n",
    "[11] Scipy curve fitting: https://glowingpython.blogspot.com/2012/07/distribution-fitting-with-scipy.html\n",
    "\n",
    "- https://asaip.psu.edu/Articles/beware-the-kolmogorov-smirnov-test/\n",
    "\n",
    "- https://docs.scipy.org/doc/scipy/reference/generated/scipy.stats.lognorm.html\n",
    "\n",
    "- \n",
    "- Multivariate data fit: https://docs.scipy.org/doc/scipy/reference/generated/scipy.stats.multivariate_normal.html#scipy.stats.multivariate_normal\n",
    "\n",
    "- Multivariate ranom data generation: https://numpy.org/doc/stable/reference/random/generated/numpy.random.multivariate_normal.html\n",
    "\n",
    "- Linear regression in scipy: https://docs.scipy.org/doc/scipy/reference/generated/scipy.stats.linregress.html\n"
   ]
  }
 ],
 "metadata": {
  "language_info": {
   "name": "python"
  }
 },
 "nbformat": 4,
 "nbformat_minor": 2
}
